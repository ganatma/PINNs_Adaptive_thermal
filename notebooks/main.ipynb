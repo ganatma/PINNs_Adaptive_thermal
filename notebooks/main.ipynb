{
 "cells": [
  {
   "cell_type": "code",
   "execution_count": null,
   "metadata": {},
   "outputs": [],
   "source": []
  }
 ],
 "metadata": {
  "kernelspec": {
   "display_name": ".venv",
   "language": "python",
   "name": "python3"
  },
  "language_info": {
   "name": "python",
   "version": "3.10.9"
  },
  "orig_nbformat": 4,
  "vscode": {
   "interpreter": {
    "hash": "4388107aa6174a99948b9b7ff314e09cc4b77e7e6790a6cc841251db1a3c2842"
   }
  }
 },
 "nbformat": 4,
 "nbformat_minor": 2
}
